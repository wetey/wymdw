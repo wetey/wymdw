{
 "cells": [
  {
   "cell_type": "code",
   "execution_count": 67,
   "metadata": {},
   "outputs": [],
   "source": [
    "import pandas as pd\n",
    "import numpy as np\n",
    "import nltk \n",
    "from nltk.tokenize import word_tokenize\n",
    "from nltk.tokenize import sent_tokenize\n",
    "from spacy.lang.en.stop_words import STOP_WORDS\n",
    "import spacy\n",
    "from tqdm import tqdm\n",
    "import string\n",
    "import collections\n",
    "import math\n",
    "from sklearn.cluster import KMeans\n",
    "from scipy.spatial.distance import cosine\n",
    "import warnings\n",
    "warnings.filterwarnings('ignore')"
   ]
  },
  {
   "cell_type": "code",
   "execution_count": 68,
   "metadata": {},
   "outputs": [
    {
     "name": "stderr",
     "output_type": "stream",
     "text": [
      "[nltk_data] Downloading package wordnet to /home/joodotey/nltk_data...\n",
      "[nltk_data]   Package wordnet is already up-to-date!\n",
      "[nltk_data] Downloading package punkt to /home/joodotey/nltk_data...\n",
      "[nltk_data]   Package punkt is already up-to-date!\n"
     ]
    }
   ],
   "source": [
    "nltk.download('wordnet')\n",
    "nltk.download('punkt')\n",
    "en = spacy.load('en_core_web_sm')\n",
    "stopwords = en.Defaults.stop_words \n",
    "stopwords.update(['film', 'movie', 'nt', 'like','','ve','films'])"
   ]
  },
  {
   "cell_type": "code",
   "execution_count": 69,
   "metadata": {},
   "outputs": [],
   "source": [
    "def tokenize(document):\n",
    "  tokens = []\n",
    "  sentences = sent_tokenize(document)\n",
    "  for sentence in sentences:\n",
    "    words = word_tokenize(sentence)\n",
    "\n",
    "    #make all words lower case\n",
    "    words = [word.lower() for word in words if word and len(word) >  2]\n",
    "\n",
    "    #remove all punctuation\n",
    "    words = [word.translate(str.maketrans('', '', string.punctuation)) for word in words]\n",
    "\n",
    "    #remove stop words\n",
    "    words = [word for word in words if word.lower() not in stopwords]\n",
    "    \n",
    "    tokens += words\n",
    "  return tokens"
   ]
  },
  {
   "cell_type": "code",
   "execution_count": 70,
   "metadata": {},
   "outputs": [],
   "source": [
    "def get_top_50(dataset):\n",
    "\n",
    "    embeddings = np.array(dataset.embedding.tolist())\n",
    "    Kmeans_clusterer = KMeans(n_clusters = 1, \n",
    "                                random_state = 42)\n",
    "    clusters = Kmeans_clusterer.fit_predict(embeddings)\n",
    "    dataset['cluster'] = pd.Series(clusters, index = dataset.index).astype('int')\n",
    "    dataset['centroid'] = dataset.cluster.apply(lambda x: Kmeans_clusterer.cluster_centers_[x])\n",
    "    dataset['embedding'] = dataset['embedding'].apply(np.array)\n",
    "    dataset['distance'] = dataset.apply(lambda x : cosine(x['centroid'], x['embedding']), axis = 1)\n",
    "    dataset = dataset.groupby('cluster')\n",
    "    dataset = dataset.apply(lambda x : x.sort_values(by = 'distance'))\n",
    "    \n",
    "    return dataset.text.tolist()[:50]"
   ]
  },
  {
   "cell_type": "code",
   "execution_count": 71,
   "metadata": {},
   "outputs": [],
   "source": [
    "#load dataset\n",
    "dataset = pd.read_json('data/updated_baseline.json')\n"
   ]
  },
  {
   "cell_type": "code",
   "execution_count": 72,
   "metadata": {},
   "outputs": [],
   "source": [
    "false_positives = dataset[dataset.predicted == 1.0]\n",
    "top_50_false_positives = get_top_50(false_positives)\n",
    "\n",
    "false_negatives = dataset[dataset.predicted == 0.0]\n",
    "top_50_false_negatives = get_top_50(false_negatives)"
   ]
  },
  {
   "cell_type": "code",
   "execution_count": 73,
   "metadata": {},
   "outputs": [],
   "source": [
    "top_50_false_positives_documents = []\n",
    "for document in top_50_false_positives:\n",
    "  top_50_false_positives_documents.extend(tokenize(document))\n",
    "\n",
    "\n",
    "top_50_false_negatives_documents = []\n",
    "for document in top_50_false_negatives:\n",
    "  top_50_false_negatives_documents.extend(tokenize(document))\n"
   ]
  },
  {
   "cell_type": "code",
   "execution_count": 75,
   "metadata": {},
   "outputs": [],
   "source": [
    "unique_tokens = {\n",
    "                'negatives': collections.defaultdict(int),\n",
    "                'positives':collections.defaultdict(int)\n",
    "            }\n",
    "tokens_in_corpus = collections.defaultdict(int)\n",
    "for sentence in top_50_false_positives_documents:\n",
    "    unique_tokens['positives'][sentence] += 1\n",
    "    tokens_in_corpus[sentence] += 1\n",
    "\n",
    "for sentence in top_50_false_negatives_documents:\n",
    "    unique_tokens['negatives'][sentence] += 1\n",
    "    tokens_in_corpus[sentence] += 1"
   ]
  },
  {
   "cell_type": "code",
   "execution_count": 76,
   "metadata": {},
   "outputs": [],
   "source": [
    "len_negatives = len(unique_tokens['negatives'])\n",
    "len_positives = len(unique_tokens['positives'])\n",
    "len_total = len(tokens_in_corpus)\n",
    "delta = collections.defaultdict(float)\n",
    "variance = collections.defaultdict(float)\n",
    "z_score = collections.defaultdict(float)\n",
    "\n",
    "for word in set(unique_tokens['negatives']) | set(unique_tokens['positives']):\n",
    "    \n",
    "    positive_count = unique_tokens['positives'][word]\n",
    "    negative_count = unique_tokens['negatives'][word]\n",
    "    total_count = tokens_in_corpus[word]\n",
    "\n",
    "    first_log = math.log10((negative_count + total_count) \n",
    "                           / (len_negatives + len_total - negative_count - total_count))\n",
    "    second_log = math.log10((positive_count + total_count) \n",
    "                           / (len_positives + len_total - positive_count - total_count))\n",
    "    \n",
    "    delta[word] = first_log - second_log\n",
    "\n",
    "    first_fraction = 1 / (negative_count + total_count)\n",
    "    second_fraction = 1 / (positive_count + total_count)\n",
    "\n",
    "    variance[word] = first_fraction + second_fraction\n",
    "\n",
    "    z_score[word] = delta[word] / variance[word]"
   ]
  }
 ],
 "metadata": {
  "kernelspec": {
   "display_name": "wymgw",
   "language": "python",
   "name": "python3"
  },
  "language_info": {
   "codemirror_mode": {
    "name": "ipython",
    "version": 3
   },
   "file_extension": ".py",
   "mimetype": "text/x-python",
   "name": "python",
   "nbconvert_exporter": "python",
   "pygments_lexer": "ipython3",
   "version": "3.9.19"
  }
 },
 "nbformat": 4,
 "nbformat_minor": 2
}
